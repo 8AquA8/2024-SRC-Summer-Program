{
  "cells": [
    {
      "cell_type": "markdown",
      "metadata": {
        "id": "view-in-github",
        "colab_type": "text"
      },
      "source": [
        "<a href=\"https://colab.research.google.com/github/8AquA8/2024-SRC-Summer-Program/blob/main/SRC_day1.ipynb\" target=\"_parent\"><img src=\"https://colab.research.google.com/assets/colab-badge.svg\" alt=\"Open In Colab\"/></a>"
      ]
    },
    {
      "cell_type": "markdown",
      "metadata": {
        "id": "1NvMdWlznuLu"
      },
      "source": [
        "### **The Ising Model of a Ferromagnet**\n",
        "\n",
        "In an **ideal paramagnet**, each microscopic magnetic dipole responds only to the external magnetic field (if any); the dipoles have no inherent tendency to point parallel (or antiparallel) to their immediate neighbors. In the real world, however, atomic dipoles are influenced by their neighbors: **There is always some preference for neighboring dipoles to align either parallel or antiparallel.** In some materials, this preference is due to ordinary magnetic forces between the dipoles. In more dramatic examples (such as iron), however, the alignment of neighboring dipoles is due to complicated quantum-mechanical effects involving the Pauli exclusion principle. Either way, there is a contribution to the energy that is greater or less, depending on the relative alignment of neighboring dipoles.\n",
        "\n",
        "**When neighboring dipoles align parallel to each other, even in the absence of an external field, we call the material a ferromagnet** (in honor of iron, the most familiar example). When neighboring dipoles align antiparallel, we call the material an antiferromagnet (examples include Cr, NiO, and FeO). In this section, I’ll discuss ferromagnets, although most of the same ideas can also be applied to antiferromagnets.\n",
        "\n",
        "The long-range order of a ferromagnet manifests itself as a net nonzero magnetization. **Raising the temperature, however, causes random fluctuations that decrease the overall magnetization.** For every ferromagnet, there is a certain critical temperature, called the **Curie temperature**, at which the net magnetization becomes zero (when there is no external field). **Above the Curie temperature a ferromagnet becomes a paramagnet.** The Curie temperature of iron is 1043 K, considerably higher than that of most other ferromagnets.\n",
        "\n",
        "Even below the Curie temperature, you may not notice that **a piece of iron is magnetized.** This is because a large chunk of iron ordinarily divides itself into domains that are microscopic in size but still contain billions of atomic dipoles. **Within each domain, the material is magnetized, but the magnetic field created by all the dipoles in one domain gives neighboring domains a tendency to magnetize in the opposite direction. (Put two ordinary bar magnets side by side and you’ll see why.) Because there are so many domains, with about as many pointing one way as another, the material as a whole has no net magnetization.** However, if you heat a chunk of iron in the presence of an external magnetic field, this field can overcome the interaction between domains and cause essentially all the dipoles to line up parallel. Remove the external field after the material has cooled to room temperature, and the ferromagnetic interaction prevents any significant realigning. You then have a “permanent” magnet.\n",
        "\n",
        "### **What is the Ising Model?**\n",
        "The **Ising model** is a mathematical model in statistical mechanics used to describe **phase transitions in ferromagnetic materials**. Named after the physicist Ernst Ising, who introduced it in his 1924 PhD thesis, the model consists of discrete variables called spins that represent magnetic dipole moments of atomic spins. These spins can be in one of two states, typically denoted as $+1$ (up) or $-1$ (down).\n",
        "\n",
        "The **total energy (Hamiltonian)** of a spin configuration is given by:\n",
        "   \n",
        "   ${H = -J \\sum_{\\langle i, j \\rangle} s_i s_j - h \\sum_i s_i}$ where ${\\langle i, j \\rangle}$ denotes summation over neighboring pairs of spins, and $h$ is an external magnetic field.\n",
        "\n",
        "The **interaction energy** between two neighboring spins $i$ and $j$ is given by:\n",
        "\n",
        "   ${E_{ij} = -J s_i s_j}$ where $s_i$ and $s_j$ are the spins, and $J$ is the interaction constant.\n",
        "   \n",
        "   If $J > 0$, the interaction is ferromagnetic (favoring alignment), and if $J < 0$, the interaction is antiferromagnetic (favoring opposite alignment).\n",
        "\n",
        "### **Exact Solutions for the Ising Model**\n",
        "Exact solutions for the Ising model exist for certain cases. Specifically:\n",
        "\n",
        "- **1D Ising Model:** There is an exact solution for the one-dimensional Ising model. You can learn about this in the Statistical Mechanics class offered in the following fall semester.\n",
        "- **2D Ising Model:** Lars Onsager provided an exact solution for the two-dimensional Ising model without an external magnetic field.\n",
        "\n",
        "### **Why Simulate the Ising Model if We Have Exact Solutions?**\n",
        "\n",
        "- **Presence of an External Magnetic Field:** The exact solutions for the Ising model do not extend to cases where an external magnetic field is applied. Simulations allow us to study the system under these more complex conditions.\n",
        "\n",
        "- **Non-Equilibrium Systems:** The exact solutions assume that the system is in equilibrium. However, many interesting and important physical phenomena occur in non-equilibrium systems. Simulations enable us to explore these dynamics and understand the behavior of systems as they evolve over time, approach equilibrium, or exhibit steady-state non-equilibrium behavior.\n",
        "\n",
        "- **Higher Dimensions:** Exact solutions do not exist for the Ising model in dimensions higher than two. As the dimensionality increases, the complexity of the interactions makes it impossible to derive exact analytical solutions. Simulations become the primary method to study and understand the behavior of these higher-dimensional systems.\n"
      ]
    },
    {
      "cell_type": "markdown",
      "metadata": {
        "id": "jvZX4BUOnuLw"
      },
      "source": [
        "### **Import Module**"
      ]
    },
    {
      "cell_type": "code",
      "source": [
        "!pip install numpy matplotlib ipywidgets pillow\n",
        "\n",
        "!jupyter nbextension enable --py widgetsnbextension --sys-prefix\n",
        "!jupyter nbextension enable --py --sys-prefix widgetsnbextension"
      ],
      "metadata": {
        "id": "vJXLjIiSoZnz",
        "colab": {
          "base_uri": "https://localhost:8080/"
        },
        "outputId": "1d8dadd5-2498-4d81-e7fb-b16e46127d33"
      },
      "execution_count": null,
      "outputs": [
        {
          "output_type": "stream",
          "name": "stdout",
          "text": [
            "Requirement already satisfied: numpy in /usr/local/lib/python3.10/dist-packages (1.25.2)\n",
            "Requirement already satisfied: matplotlib in /usr/local/lib/python3.10/dist-packages (3.7.1)\n",
            "Requirement already satisfied: ipywidgets in /usr/local/lib/python3.10/dist-packages (7.7.1)\n",
            "Requirement already satisfied: pillow in /usr/local/lib/python3.10/dist-packages (9.4.0)\n",
            "Requirement already satisfied: contourpy>=1.0.1 in /usr/local/lib/python3.10/dist-packages (from matplotlib) (1.2.1)\n",
            "Requirement already satisfied: cycler>=0.10 in /usr/local/lib/python3.10/dist-packages (from matplotlib) (0.12.1)\n",
            "Requirement already satisfied: fonttools>=4.22.0 in /usr/local/lib/python3.10/dist-packages (from matplotlib) (4.53.0)\n",
            "Requirement already satisfied: kiwisolver>=1.0.1 in /usr/local/lib/python3.10/dist-packages (from matplotlib) (1.4.5)\n",
            "Requirement already satisfied: packaging>=20.0 in /usr/local/lib/python3.10/dist-packages (from matplotlib) (24.1)\n",
            "Requirement already satisfied: pyparsing>=2.3.1 in /usr/local/lib/python3.10/dist-packages (from matplotlib) (3.1.2)\n",
            "Requirement already satisfied: python-dateutil>=2.7 in /usr/local/lib/python3.10/dist-packages (from matplotlib) (2.8.2)\n",
            "Requirement already satisfied: ipykernel>=4.5.1 in /usr/local/lib/python3.10/dist-packages (from ipywidgets) (5.5.6)\n",
            "Requirement already satisfied: ipython-genutils~=0.2.0 in /usr/local/lib/python3.10/dist-packages (from ipywidgets) (0.2.0)\n",
            "Requirement already satisfied: traitlets>=4.3.1 in /usr/local/lib/python3.10/dist-packages (from ipywidgets) (5.7.1)\n",
            "Requirement already satisfied: widgetsnbextension~=3.6.0 in /usr/local/lib/python3.10/dist-packages (from ipywidgets) (3.6.6)\n",
            "Requirement already satisfied: ipython>=4.0.0 in /usr/local/lib/python3.10/dist-packages (from ipywidgets) (7.34.0)\n",
            "Requirement already satisfied: jupyterlab-widgets>=1.0.0 in /usr/local/lib/python3.10/dist-packages (from ipywidgets) (3.0.11)\n",
            "Requirement already satisfied: jupyter-client in /usr/local/lib/python3.10/dist-packages (from ipykernel>=4.5.1->ipywidgets) (6.1.12)\n",
            "Requirement already satisfied: tornado>=4.2 in /usr/local/lib/python3.10/dist-packages (from ipykernel>=4.5.1->ipywidgets) (6.3.3)\n",
            "Requirement already satisfied: setuptools>=18.5 in /usr/local/lib/python3.10/dist-packages (from ipython>=4.0.0->ipywidgets) (67.7.2)\n",
            "Collecting jedi>=0.16 (from ipython>=4.0.0->ipywidgets)\n",
            "  Downloading jedi-0.19.1-py2.py3-none-any.whl (1.6 MB)\n",
            "\u001b[2K     \u001b[90m━━━━━━━━━━━━━━━━━━━━━━━━━━━━━━━━━━━━━━━━\u001b[0m \u001b[32m1.6/1.6 MB\u001b[0m \u001b[31m7.2 MB/s\u001b[0m eta \u001b[36m0:00:00\u001b[0m\n",
            "\u001b[?25hRequirement already satisfied: decorator in /usr/local/lib/python3.10/dist-packages (from ipython>=4.0.0->ipywidgets) (4.4.2)\n",
            "Requirement already satisfied: pickleshare in /usr/local/lib/python3.10/dist-packages (from ipython>=4.0.0->ipywidgets) (0.7.5)\n",
            "Requirement already satisfied: prompt-toolkit!=3.0.0,!=3.0.1,<3.1.0,>=2.0.0 in /usr/local/lib/python3.10/dist-packages (from ipython>=4.0.0->ipywidgets) (3.0.47)\n",
            "Requirement already satisfied: pygments in /usr/local/lib/python3.10/dist-packages (from ipython>=4.0.0->ipywidgets) (2.16.1)\n",
            "Requirement already satisfied: backcall in /usr/local/lib/python3.10/dist-packages (from ipython>=4.0.0->ipywidgets) (0.2.0)\n",
            "Requirement already satisfied: matplotlib-inline in /usr/local/lib/python3.10/dist-packages (from ipython>=4.0.0->ipywidgets) (0.1.7)\n",
            "Requirement already satisfied: pexpect>4.3 in /usr/local/lib/python3.10/dist-packages (from ipython>=4.0.0->ipywidgets) (4.9.0)\n",
            "Requirement already satisfied: six>=1.5 in /usr/local/lib/python3.10/dist-packages (from python-dateutil>=2.7->matplotlib) (1.16.0)\n",
            "Requirement already satisfied: notebook>=4.4.1 in /usr/local/lib/python3.10/dist-packages (from widgetsnbextension~=3.6.0->ipywidgets) (6.5.5)\n",
            "Requirement already satisfied: parso<0.9.0,>=0.8.3 in /usr/local/lib/python3.10/dist-packages (from jedi>=0.16->ipython>=4.0.0->ipywidgets) (0.8.4)\n",
            "Requirement already satisfied: jinja2 in /usr/local/lib/python3.10/dist-packages (from notebook>=4.4.1->widgetsnbextension~=3.6.0->ipywidgets) (3.1.4)\n",
            "Requirement already satisfied: pyzmq<25,>=17 in /usr/local/lib/python3.10/dist-packages (from notebook>=4.4.1->widgetsnbextension~=3.6.0->ipywidgets) (24.0.1)\n",
            "Requirement already satisfied: argon2-cffi in /usr/local/lib/python3.10/dist-packages (from notebook>=4.4.1->widgetsnbextension~=3.6.0->ipywidgets) (23.1.0)\n",
            "Requirement already satisfied: jupyter-core>=4.6.1 in /usr/local/lib/python3.10/dist-packages (from notebook>=4.4.1->widgetsnbextension~=3.6.0->ipywidgets) (5.7.2)\n",
            "Requirement already satisfied: nbformat in /usr/local/lib/python3.10/dist-packages (from notebook>=4.4.1->widgetsnbextension~=3.6.0->ipywidgets) (5.10.4)\n",
            "Requirement already satisfied: nbconvert>=5 in /usr/local/lib/python3.10/dist-packages (from notebook>=4.4.1->widgetsnbextension~=3.6.0->ipywidgets) (6.5.4)\n",
            "Requirement already satisfied: nest-asyncio>=1.5 in /usr/local/lib/python3.10/dist-packages (from notebook>=4.4.1->widgetsnbextension~=3.6.0->ipywidgets) (1.6.0)\n",
            "Requirement already satisfied: Send2Trash>=1.8.0 in /usr/local/lib/python3.10/dist-packages (from notebook>=4.4.1->widgetsnbextension~=3.6.0->ipywidgets) (1.8.3)\n",
            "Requirement already satisfied: terminado>=0.8.3 in /usr/local/lib/python3.10/dist-packages (from notebook>=4.4.1->widgetsnbextension~=3.6.0->ipywidgets) (0.18.1)\n",
            "Requirement already satisfied: prometheus-client in /usr/local/lib/python3.10/dist-packages (from notebook>=4.4.1->widgetsnbextension~=3.6.0->ipywidgets) (0.20.0)\n",
            "Requirement already satisfied: nbclassic>=0.4.7 in /usr/local/lib/python3.10/dist-packages (from notebook>=4.4.1->widgetsnbextension~=3.6.0->ipywidgets) (1.1.0)\n",
            "Requirement already satisfied: ptyprocess>=0.5 in /usr/local/lib/python3.10/dist-packages (from pexpect>4.3->ipython>=4.0.0->ipywidgets) (0.7.0)\n",
            "Requirement already satisfied: wcwidth in /usr/local/lib/python3.10/dist-packages (from prompt-toolkit!=3.0.0,!=3.0.1,<3.1.0,>=2.0.0->ipython>=4.0.0->ipywidgets) (0.2.13)\n",
            "Requirement already satisfied: platformdirs>=2.5 in /usr/local/lib/python3.10/dist-packages (from jupyter-core>=4.6.1->notebook>=4.4.1->widgetsnbextension~=3.6.0->ipywidgets) (4.2.2)\n",
            "Requirement already satisfied: notebook-shim>=0.2.3 in /usr/local/lib/python3.10/dist-packages (from nbclassic>=0.4.7->notebook>=4.4.1->widgetsnbextension~=3.6.0->ipywidgets) (0.2.4)\n",
            "Requirement already satisfied: lxml in /usr/local/lib/python3.10/dist-packages (from nbconvert>=5->notebook>=4.4.1->widgetsnbextension~=3.6.0->ipywidgets) (4.9.4)\n",
            "Requirement already satisfied: beautifulsoup4 in /usr/local/lib/python3.10/dist-packages (from nbconvert>=5->notebook>=4.4.1->widgetsnbextension~=3.6.0->ipywidgets) (4.12.3)\n",
            "Requirement already satisfied: bleach in /usr/local/lib/python3.10/dist-packages (from nbconvert>=5->notebook>=4.4.1->widgetsnbextension~=3.6.0->ipywidgets) (6.1.0)\n",
            "Requirement already satisfied: defusedxml in /usr/local/lib/python3.10/dist-packages (from nbconvert>=5->notebook>=4.4.1->widgetsnbextension~=3.6.0->ipywidgets) (0.7.1)\n",
            "Requirement already satisfied: entrypoints>=0.2.2 in /usr/local/lib/python3.10/dist-packages (from nbconvert>=5->notebook>=4.4.1->widgetsnbextension~=3.6.0->ipywidgets) (0.4)\n",
            "Requirement already satisfied: jupyterlab-pygments in /usr/local/lib/python3.10/dist-packages (from nbconvert>=5->notebook>=4.4.1->widgetsnbextension~=3.6.0->ipywidgets) (0.3.0)\n",
            "Requirement already satisfied: MarkupSafe>=2.0 in /usr/local/lib/python3.10/dist-packages (from nbconvert>=5->notebook>=4.4.1->widgetsnbextension~=3.6.0->ipywidgets) (2.1.5)\n",
            "Requirement already satisfied: mistune<2,>=0.8.1 in /usr/local/lib/python3.10/dist-packages (from nbconvert>=5->notebook>=4.4.1->widgetsnbextension~=3.6.0->ipywidgets) (0.8.4)\n",
            "Requirement already satisfied: nbclient>=0.5.0 in /usr/local/lib/python3.10/dist-packages (from nbconvert>=5->notebook>=4.4.1->widgetsnbextension~=3.6.0->ipywidgets) (0.10.0)\n",
            "Requirement already satisfied: pandocfilters>=1.4.1 in /usr/local/lib/python3.10/dist-packages (from nbconvert>=5->notebook>=4.4.1->widgetsnbextension~=3.6.0->ipywidgets) (1.5.1)\n",
            "Requirement already satisfied: tinycss2 in /usr/local/lib/python3.10/dist-packages (from nbconvert>=5->notebook>=4.4.1->widgetsnbextension~=3.6.0->ipywidgets) (1.3.0)\n",
            "Requirement already satisfied: fastjsonschema>=2.15 in /usr/local/lib/python3.10/dist-packages (from nbformat->notebook>=4.4.1->widgetsnbextension~=3.6.0->ipywidgets) (2.20.0)\n",
            "Requirement already satisfied: jsonschema>=2.6 in /usr/local/lib/python3.10/dist-packages (from nbformat->notebook>=4.4.1->widgetsnbextension~=3.6.0->ipywidgets) (4.19.2)\n",
            "Requirement already satisfied: argon2-cffi-bindings in /usr/local/lib/python3.10/dist-packages (from argon2-cffi->notebook>=4.4.1->widgetsnbextension~=3.6.0->ipywidgets) (21.2.0)\n",
            "Requirement already satisfied: attrs>=22.2.0 in /usr/local/lib/python3.10/dist-packages (from jsonschema>=2.6->nbformat->notebook>=4.4.1->widgetsnbextension~=3.6.0->ipywidgets) (23.2.0)\n",
            "Requirement already satisfied: jsonschema-specifications>=2023.03.6 in /usr/local/lib/python3.10/dist-packages (from jsonschema>=2.6->nbformat->notebook>=4.4.1->widgetsnbextension~=3.6.0->ipywidgets) (2023.12.1)\n",
            "Requirement already satisfied: referencing>=0.28.4 in /usr/local/lib/python3.10/dist-packages (from jsonschema>=2.6->nbformat->notebook>=4.4.1->widgetsnbextension~=3.6.0->ipywidgets) (0.35.1)\n",
            "Requirement already satisfied: rpds-py>=0.7.1 in /usr/local/lib/python3.10/dist-packages (from jsonschema>=2.6->nbformat->notebook>=4.4.1->widgetsnbextension~=3.6.0->ipywidgets) (0.18.1)\n",
            "Requirement already satisfied: jupyter-server<3,>=1.8 in /usr/local/lib/python3.10/dist-packages (from notebook-shim>=0.2.3->nbclassic>=0.4.7->notebook>=4.4.1->widgetsnbextension~=3.6.0->ipywidgets) (1.24.0)\n",
            "Requirement already satisfied: cffi>=1.0.1 in /usr/local/lib/python3.10/dist-packages (from argon2-cffi-bindings->argon2-cffi->notebook>=4.4.1->widgetsnbextension~=3.6.0->ipywidgets) (1.16.0)\n",
            "Requirement already satisfied: soupsieve>1.2 in /usr/local/lib/python3.10/dist-packages (from beautifulsoup4->nbconvert>=5->notebook>=4.4.1->widgetsnbextension~=3.6.0->ipywidgets) (2.5)\n",
            "Requirement already satisfied: webencodings in /usr/local/lib/python3.10/dist-packages (from bleach->nbconvert>=5->notebook>=4.4.1->widgetsnbextension~=3.6.0->ipywidgets) (0.5.1)\n",
            "Requirement already satisfied: pycparser in /usr/local/lib/python3.10/dist-packages (from cffi>=1.0.1->argon2-cffi-bindings->argon2-cffi->notebook>=4.4.1->widgetsnbextension~=3.6.0->ipywidgets) (2.22)\n",
            "Requirement already satisfied: anyio<4,>=3.1.0 in /usr/local/lib/python3.10/dist-packages (from jupyter-server<3,>=1.8->notebook-shim>=0.2.3->nbclassic>=0.4.7->notebook>=4.4.1->widgetsnbextension~=3.6.0->ipywidgets) (3.7.1)\n",
            "Requirement already satisfied: websocket-client in /usr/local/lib/python3.10/dist-packages (from jupyter-server<3,>=1.8->notebook-shim>=0.2.3->nbclassic>=0.4.7->notebook>=4.4.1->widgetsnbextension~=3.6.0->ipywidgets) (1.8.0)\n",
            "Requirement already satisfied: idna>=2.8 in /usr/local/lib/python3.10/dist-packages (from anyio<4,>=3.1.0->jupyter-server<3,>=1.8->notebook-shim>=0.2.3->nbclassic>=0.4.7->notebook>=4.4.1->widgetsnbextension~=3.6.0->ipywidgets) (3.7)\n",
            "Requirement already satisfied: sniffio>=1.1 in /usr/local/lib/python3.10/dist-packages (from anyio<4,>=3.1.0->jupyter-server<3,>=1.8->notebook-shim>=0.2.3->nbclassic>=0.4.7->notebook>=4.4.1->widgetsnbextension~=3.6.0->ipywidgets) (1.3.1)\n",
            "Requirement already satisfied: exceptiongroup in /usr/local/lib/python3.10/dist-packages (from anyio<4,>=3.1.0->jupyter-server<3,>=1.8->notebook-shim>=0.2.3->nbclassic>=0.4.7->notebook>=4.4.1->widgetsnbextension~=3.6.0->ipywidgets) (1.2.1)\n",
            "Installing collected packages: jedi\n",
            "Successfully installed jedi-0.19.1\n",
            "Enabling notebook extension jupyter-js-widgets/extension...\n",
            "Paths used for configuration of notebook: \n",
            "    \t/usr/etc/jupyter/nbconfig/notebook.json\n",
            "Paths used for configuration of notebook: \n",
            "    \t\n",
            "      - Validating: \u001b[32mOK\u001b[0m\n",
            "Paths used for configuration of notebook: \n",
            "    \t/usr/etc/jupyter/nbconfig/notebook.json\n",
            "Enabling notebook extension jupyter-js-widgets/extension...\n",
            "Paths used for configuration of notebook: \n",
            "    \t/usr/etc/jupyter/nbconfig/notebook.json\n",
            "Paths used for configuration of notebook: \n",
            "    \t\n",
            "      - Validating: \u001b[32mOK\u001b[0m\n",
            "Paths used for configuration of notebook: \n",
            "    \t/usr/etc/jupyter/nbconfig/notebook.json\n"
          ]
        }
      ]
    },
    {
      "cell_type": "code",
      "execution_count": null,
      "metadata": {
        "id": "CjpcJqMZnuLw"
      },
      "outputs": [],
      "source": [
        "import numpy as np\n",
        "import matplotlib.pyplot as plt\n",
        "from ipywidgets import interact, VBox, Label\n",
        "from PIL import Image"
      ]
    },
    {
      "cell_type": "markdown",
      "metadata": {
        "id": "PzHV2MdinuLx"
      },
      "source": [
        "### **Ising Model Simulation in Python**\n",
        "\n",
        "**Setting neighbors for each spin site**"
      ]
    },
    {
      "cell_type": "code",
      "execution_count": null,
      "metadata": {
        "id": "K_Tp4nx_nuLx"
      },
      "outputs": [],
      "source": [
        "L_x = 32\n",
        "L_y = 32\n",
        "number_of_sites = L_x * L_y\n",
        "spin = (np.full(number_of_sites, -1))\n",
        "\n",
        "neighbors = np.zeros((number_of_sites, 4),dtype=int)\n",
        "\n",
        "for i in range(number_of_sites):\n",
        "  x1 = i % L_x # %: Modulus ex) 5%2=1\n",
        "  y1 = i // L_x # // Floor division ex)7//2=3\n",
        "\n",
        "  # Neighbors considering periodic boundary conditions\n",
        "\n",
        "  #Left\n",
        "  if (x1==0):\n",
        "    neighbors[i, 0]= i + L_x - 1\n",
        "  else:\n",
        "    neighbors[i, 0]= i - 1\n",
        "\n",
        "  #Right\n",
        "  if (x1 == L_x-1):\n",
        "    neighbors[i, 1] = i - (L_x - 1)\n",
        "  else:\n",
        "    neighbors[i, 1] = i + 1\n",
        "\n",
        "\n",
        "  #up\n",
        "  if (y1 == 0):\n",
        "    neighbors[i, 2] = i + L_x * (L_y - 1)\n",
        "  else:\n",
        "    neighbors[i, 2] = i - L_x\n",
        "\n",
        "  #Down\n",
        "  if (y1==L_y - 1):\n",
        "    neighbors[i, 3] = i - L_x * (L_y - 1)\n",
        "  else:\n",
        "    neighbors[i, 3] = i + L_x"
      ]
    },
    {
      "cell_type": "markdown",
      "metadata": {
        "id": "eu_pDgc3nuLx"
      },
      "source": [
        "### **Expected questions**\n",
        "**1. For representing the location of each spin sites via (x1, y1), why is modulus and floor division used?**\n",
        "- When i is divided by L_x, the remainder (i % L_x) gives the column index within the current row. This is because each row contains L_x elements, and the modulo operation cycles through these columns.\n",
        "\n",
        "- When i is divided by L_x, the quotient (i // L_x) gives the row index. This is because each complete set of L_x elements forms a new row.\n",
        "\n",
        "- **Example**\n",
        "\n",
        "   0 1 2 3\n",
        "\n",
        "   4 5 6 7\n",
        "\n",
        "   8 9 10 11\n",
        "\n",
        "  For i = 7 :\n",
        "\n",
        "  x1 = 7 % 4 = 3 (colum index)\n",
        "\n",
        "  y1 = 7 // 4 = 1 (row index)\n",
        "\n",
        "\n",
        "\n",
        "### **2. How does the code satisfy the periodic boundary condition?**\n",
        "- **Left Neighbor**\n",
        "\n",
        " When x1 is 0, the site is on the left edge of the grid. The left neighbor wraps around to the last column of the same row (i + L_x - 1). Otherwise, the left neighbor is simply the previous site in the same row (i - 1).\n",
        "\n",
        "- **Right Neighbor**\n",
        "\n",
        " If x1 is L_x - 1, the site is on the right edge of the grid. Its right neighbor wraps around to the first column of the same row (i - (L_x - 1)). Otherwise, the right neighbor is simply the next site in the same row (i + 1).\n",
        "\n",
        "- **Down Neighbor**\n",
        "\n",
        " If y1 is 0, the site is on the top edge of the grid. Its down neighbor wraps around to the site at the bottom of the same column (i + L_x * (L_y - 1)). Otherwise, the down neighbor is simply the site directly above it (i - L_x).\n",
        "\n",
        "- **Up Neighbor**\n",
        "\n",
        " If y1 is L_y - 1, the site is on the bottom edge of the grid. Its up neighbor wraps around to the site at the top of the same column (i - L_x * (L_y - 1)). Otherwise, the up neighbor is simply the site directly below it (i + L_x).\n",
        "\n"
      ]
    },
    {
      "cell_type": "code",
      "source": [
        "print(neighbors)"
      ],
      "metadata": {
        "colab": {
          "base_uri": "https://localhost:8080/"
        },
        "id": "nWwSnHGgO0-t",
        "outputId": "1faa259e-93ce-460c-c20d-e6b4f04a5ed1"
      },
      "execution_count": null,
      "outputs": [
        {
          "output_type": "stream",
          "name": "stdout",
          "text": [
            "[[  31    1  992   32]\n",
            " [   0    2  993   33]\n",
            " [   1    3  994   34]\n",
            " ...\n",
            " [1020 1022  989   29]\n",
            " [1021 1023  990   30]\n",
            " [1022  992  991   31]]\n"
          ]
        }
      ]
    },
    {
      "cell_type": "code",
      "execution_count": null,
      "metadata": {
        "id": "ql6wAUYPnuLx"
      },
      "outputs": [],
      "source": [
        "# Functions for visualization\n",
        "# This code is only for visualization and can be neglected if you are focusing on the Ising model simulation itself.\n",
        "\n",
        "def display_spin_field(spin, scale_factor=10):\n",
        "    lattice = spin.reshape((L_x, L_y))\n",
        "    img = Image.fromarray(np.uint8((lattice + 1) * 0.5 * 255))  # 0 ... 255\n",
        "    img = img.resize((img.width * scale_factor, img.height * scale_factor), Image.NEAREST)\n",
        "    return img\n",
        "\n",
        "def display_ising_sequence(images, magnetizations):\n",
        "    magnetization_label = Label()\n",
        "\n",
        "    def _show(frame=(0, len(images) - 1)):\n",
        "        img = display_spin_field(images[frame])\n",
        "        magnetization_label.value = f\"Magnetization: {magnetizations[frame]}\"\n",
        "        display(img)\n",
        "\n",
        "    interact(_show)\n",
        "    display(VBox([magnetization_label]))"
      ]
    },
    {
      "cell_type": "code",
      "execution_count": null,
      "metadata": {
        "id": "93nNxR3nnuLy"
      },
      "outputs": [],
      "source": [
        "def initialize_spin(spin, pole):\n",
        "  if pole == 1:\n",
        "    for i in range(number_of_sites):\n",
        "      spin[i]= 1\n",
        "\n",
        "  elif pole == -1:\n",
        "    for i in range(number_of_sites):\n",
        "      spin[i]= -1\n",
        "\n",
        "\n",
        "def initialize_spin_random(spin):\n",
        "    spin[:] = np.random.choice([-1, 1], size=number_of_sites)"
      ]
    },
    {
      "cell_type": "code",
      "execution_count": null,
      "metadata": {
        "id": "8gTktRGPnuLy"
      },
      "outputs": [],
      "source": [
        "def delta_nrg(spin, chosen_site, field, bonding):\n",
        "  de = 0.0\n",
        "  s1 = spin[chosen_site]\n",
        "\n",
        "  for i in range(4):\n",
        "    s2 = spin[neighbors[chosen_site][i]]\n",
        "    de += 2.0 * bonding * s1 * s2\n",
        "\n",
        "  de += 2.0 * field * s1\n",
        "\n",
        "  return de\n",
        "\n",
        "def lattice_nrg(spin, field, bonding):\n",
        "  nrg = 0.0\n",
        "\n",
        "  for i in range(number_of_sites):\n",
        "    s1 = spin[i]\n",
        "    nrg -= field * s1\n",
        "\n",
        "    for j in range(4):\n",
        "      s2 = spin[neighbors[i][j]]\n",
        "      nrg -= 0.5 * bonding * s1 * s2\n",
        "\n",
        "  return nrg\n",
        "\n",
        "def lattice_mag(spin):\n",
        "    return np.sum(spin)"
      ]
    },
    {
      "cell_type": "markdown",
      "metadata": {
        "id": "I3oRUyTGnuLy"
      },
      "source": [
        "### **The Metropolis Algorithm for Simulating the Ising Model**\n",
        "\n",
        "The Metropolis algorithm is a crucial method used in Monte Carlo simulations to study the Ising model, particularly for systems where exact solutions are not available or are difficult to compute. Here, we'll explain how the algorithm works and why it's effective.\n",
        "\n",
        "**Monte Carlo Simulation**\n",
        "\n",
        "In the context of a medium-sized, two-dimensional Ising model on a square lattice (e.g., 10×10 with 100 dipoles), it's computationally infeasible to consider all possible states due to their vast number. Instead, Monte Carlo summation (or integration) uses random sampling to estimate thermodynamic quantities like average energy and magnetization.\n",
        "\n",
        "However, a naive Monte Carlo approach, which samples states purely at random, is inefficient because it misses the most probable states, especially at low temperatures. **The Metropolis algorithm addresses this inefficiency by generating a subset of states that reflect the correct Boltzmann distribution.**\n",
        "\n",
        "**The Metropolis Algorithm Steps**\n",
        "\n",
        "1. **Initialization**: Start with an arbitrary initial state of the system.\n",
        "2. **State Selection**: Choose a spin at random and consider flipping it.\n",
        "3. **Energy Calculation**: Compute the energy difference $\\Delta E$ that would result from flipping the chosen spin.\n",
        "4. **Decision Making**:\n",
        "   - If $\\Delta E \\leq 0$, accept the flip because it lowers the system's energy.\n",
        "   - If $\\Delta E > 0$, accept the flip with a probability of $e^{-\\Delta E / kT}$. This probability ensures that higher energy states are less likely but still possible, allowing the system to explore a range of states.\n",
        "5. **Iteration**: Repeat the process many times to allow the system to sample various states.\n",
        "\n",
        "The Metropolis algorithm efficiently generates states where low-energy configurations are more frequent, matching the Boltzmann distribution. This approach helps simulate the Ising model accurately, even for complex systems.\n"
      ]
    },
    {
      "cell_type": "code",
      "execution_count": null,
      "metadata": {
        "id": "r5nlpzj_nuLy"
      },
      "outputs": [],
      "source": [
        "def mc_step(spin, field, bonding, tee):\n",
        "    chosen_site = np.random.randint(number_of_sites)\n",
        "\n",
        "    de = delta_nrg(spin, chosen_site, field, bonding)\n",
        "\n",
        "    prob = np.random.rand()\n",
        "    entprod = 0.0\n",
        "\n",
        "    if de <= 0:\n",
        "        spin[chosen_site] = -spin[chosen_site]\n",
        "        entprod = -de/tee\n",
        "    else:\n",
        "        glauber = np.exp(-de / tee)\n",
        "        glauber = glauber / (glauber + 1.0)\n",
        "\n",
        "        if prob < glauber:\n",
        "            spin[chosen_site] = -spin[chosen_site]\n",
        "            entprod = -de / tee\n",
        "\n",
        "    return entprod"
      ]
    },
    {
      "cell_type": "code",
      "execution_count": null,
      "metadata": {
        "colab": {
          "base_uri": "https://localhost:8080/",
          "height": 401,
          "referenced_widgets": [
            "f648681d4bcb4705b2101f09b3b89221",
            "ccfcb710dff641b9b04f9a3af0b1caa8",
            "212c935b6f5041b49b53f02f3884edf2",
            "9564a36c87434a4a98d3f1ffa1d7f5f9",
            "2750666a71e74432b606f5e71e550297",
            "2020e645bef147b892cfe7d4516df0ec",
            "f0147594efee42c0813588851c37af9f",
            "adfc0f3ee0294937ba39a47fba988f08",
            "fffb107806ed4b23919637a55984aea8",
            "3cec7f0b95ba46319ddeb2c779e8ed27",
            "3cc801a10b3d4071ab1e60b6983203f6",
            "af868314ae3b425e8879f779d385b0a1"
          ]
        },
        "id": "_gRWMiVDnuLy",
        "outputId": "7bf84945-aa2b-46c4-c628-fbdb504f00bf"
      },
      "outputs": [
        {
          "output_type": "display_data",
          "data": {
            "text/plain": [
              "interactive(children=(IntSlider(value=24999, description='frame', max=49999), Output()), _dom_classes=('widget…"
            ],
            "application/vnd.jupyter.widget-view+json": {
              "version_major": 2,
              "version_minor": 0,
              "model_id": "f648681d4bcb4705b2101f09b3b89221"
            }
          },
          "metadata": {}
        },
        {
          "output_type": "display_data",
          "data": {
            "text/plain": [
              "VBox(children=(Label(value='Magnetization: 1016'),))"
            ],
            "application/vnd.jupyter.widget-view+json": {
              "version_major": 2,
              "version_minor": 0,
              "model_id": "adfc0f3ee0294937ba39a47fba988f08"
            }
          },
          "metadata": {}
        }
      ],
      "source": [
        "images = []\n",
        "magnetizations = []\n",
        "entropy_productions = []\n",
        "\n",
        "initialize_spin(spin, -1)\n",
        "# initialize_spin(spin, +1)\n",
        "#initialize_spin_random(spin)\n",
        "\n",
        "field = 1.0\n",
        "bonding = 1.0\n",
        "tee = 1.5\n",
        "# entprod = 0.0\n",
        "\n",
        "for i in range(50000):\n",
        "  # Adjust the step to store images and magnetization less frequently if needed\n",
        "        _ = mc_step(spin, field, bonding, tee)\n",
        "        images.append(spin.copy())\n",
        "        magnetizations.append(lattice_mag(spin))\n",
        "\n",
        "\n",
        "display_ising_sequence(images, magnetizations)"
      ]
    },
    {
      "cell_type": "markdown",
      "metadata": {
        "id": "iTSd_ftanuLz"
      },
      "source": [
        "### **Objective**\n",
        "\n",
        "Professor Kim has given me a challenging task, and I need your help! We need to explore different phase transitions and phases in the Ising model. Here’s what we aim to discover together:\n",
        "\n",
        "1. ***Domain Formation:*** Within each domain, the material is magnetized, but the magnetic field created by all the dipoles in one domain gives neighboring domains a tendency to magnetize in the opposite direction. Because there are so many domains, with about as many pointing one way as another, the material as a whole has no net magnetization.\n",
        "\n",
        "2. ***Spinodal Decomposition:*** We will observe phase separation in a quenched system without nucleation barriers. This happens when the system is rapidly cooled below the critical temperature without an external field, leading to spontaneous formation of domains.\n",
        "\n",
        "3. ***Nucleation Decomposition:*** We will study the formation of stable nuclei in a metastable phase. This occurs when a uniform initial spin configuration transitions to a more stable phase by forming small regions (nuclei) of the new phase.\n",
        "\n",
        "***Together, we will adjust control parameters such as temperature and external magnetic field, and try different initial conditions to observe these phenomena!!!***\n",
        "\n",
        "Let’s dive in and help me complete my task from Professor Kim with this fascinating exploration of the Ising model!!!\n"
      ]
    }
  ],
  "metadata": {
    "kernelspec": {
      "display_name": "demon",
      "language": "python",
      "name": "python3"
    },
    "language_info": {
      "codemirror_mode": {
        "name": "ipython",
        "version": 3
      },
      "file_extension": ".py",
      "mimetype": "text/x-python",
      "name": "python",
      "nbconvert_exporter": "python",
      "pygments_lexer": "ipython3",
      "version": "3.11.7"
    },
    "colab": {
      "provenance": [],
      "include_colab_link": true
    },
    "widgets": {
      "application/vnd.jupyter.widget-state+json": {
        "f648681d4bcb4705b2101f09b3b89221": {
          "model_module": "@jupyter-widgets/controls",
          "model_name": "VBoxModel",
          "model_module_version": "1.5.0",
          "state": {
            "_dom_classes": [
              "widget-interact"
            ],
            "_model_module": "@jupyter-widgets/controls",
            "_model_module_version": "1.5.0",
            "_model_name": "VBoxModel",
            "_view_count": null,
            "_view_module": "@jupyter-widgets/controls",
            "_view_module_version": "1.5.0",
            "_view_name": "VBoxView",
            "box_style": "",
            "children": [
              "IPY_MODEL_ccfcb710dff641b9b04f9a3af0b1caa8",
              "IPY_MODEL_212c935b6f5041b49b53f02f3884edf2"
            ],
            "layout": "IPY_MODEL_9564a36c87434a4a98d3f1ffa1d7f5f9"
          }
        },
        "ccfcb710dff641b9b04f9a3af0b1caa8": {
          "model_module": "@jupyter-widgets/controls",
          "model_name": "IntSliderModel",
          "model_module_version": "1.5.0",
          "state": {
            "_dom_classes": [],
            "_model_module": "@jupyter-widgets/controls",
            "_model_module_version": "1.5.0",
            "_model_name": "IntSliderModel",
            "_view_count": null,
            "_view_module": "@jupyter-widgets/controls",
            "_view_module_version": "1.5.0",
            "_view_name": "IntSliderView",
            "continuous_update": true,
            "description": "frame",
            "description_tooltip": null,
            "disabled": false,
            "layout": "IPY_MODEL_2750666a71e74432b606f5e71e550297",
            "max": 49999,
            "min": 0,
            "orientation": "horizontal",
            "readout": true,
            "readout_format": "d",
            "step": 1,
            "style": "IPY_MODEL_2020e645bef147b892cfe7d4516df0ec",
            "value": 49999
          }
        },
        "212c935b6f5041b49b53f02f3884edf2": {
          "model_module": "@jupyter-widgets/output",
          "model_name": "OutputModel",
          "model_module_version": "1.0.0",
          "state": {
            "_dom_classes": [],
            "_model_module": "@jupyter-widgets/output",
            "_model_module_version": "1.0.0",
            "_model_name": "OutputModel",
            "_view_count": null,
            "_view_module": "@jupyter-widgets/output",
            "_view_module_version": "1.0.0",
            "_view_name": "OutputView",
            "layout": "IPY_MODEL_f0147594efee42c0813588851c37af9f",
            "msg_id": "",
            "outputs": [
              {
                "output_type": "display_data",
                "data": {
                  "text/plain": "<PIL.Image.Image image mode=L size=320x320>",
                  "image/png": "iVBORw0KGgoAAAANSUhEUgAAAUAAAAFACAAAAADo+/p2AAACtElEQVR4nO3XMQ6AIBAAQTH+/8vYWdlNCNHsVHRcNlfAmEfEuXuArysgKiAqICogKiAqICogKiAqICogKiAqICogKiAqICogKiAqICogKiAqICogKiAqICogKiAqICogKiAqICogKiAqICogKiAqICogKiAqICogKiAqICogKiAqICogKiAqICogKiAqICogKiAqICogKiAqICogKiAqICogKiAqICogKiAqICogKiAqICogKiAqICogKiAqICogKiAqICogKiAqICogKiAqICogKiAqICogKiAqICogKiAqICogKiAqICogKiAqICogKiAqICogKiAqICogKiAqICogKiAqICogKiAqICogKiAqICogKiAqICogKiAqICogKiAqICogKiAqICogKiAqICogKiAqICogKiAqICogKiAqICogKiAqICogKiAqICogKiAqICogKiAqICogKiAqICogKiAqICogKiAqICogKiAqICogKiAqICogKiAqICogKiAqICogKiAqICogKiAqICogKiAqICogKiAqICogKiAqICogKiAqICogKiAqICogKiAqICogKiAqICogKiAqICogKiAqICogKiAqICogKiAqICogKiAqICogKiAqICogKiAqICogKiAqICogKiAqICogKiAqICogKiAqICogKiAqICogKiAqICogKiAqICogKiAqICogKiAqICogKiAqICogKiAqICogKiAqICogKiAqICogKiAqICogKiAqICogunYPsNJ4TnPZHW0gKiAqICogKiAqICogKiAqIBrr3uj/8/azaQNRAVEBUQFRAVEBUQFRAVEBUT8R1AaiAqICogKiAqICogKiAqICogKiAqICogKiAqICogKiAqICogKiAqICogKiAqICogKiAqICogKiAqIbXXIHfe4T+KYAAAAASUVORK5CYII=\n"
                },
                "metadata": {}
              }
            ]
          }
        },
        "9564a36c87434a4a98d3f1ffa1d7f5f9": {
          "model_module": "@jupyter-widgets/base",
          "model_name": "LayoutModel",
          "model_module_version": "1.2.0",
          "state": {
            "_model_module": "@jupyter-widgets/base",
            "_model_module_version": "1.2.0",
            "_model_name": "LayoutModel",
            "_view_count": null,
            "_view_module": "@jupyter-widgets/base",
            "_view_module_version": "1.2.0",
            "_view_name": "LayoutView",
            "align_content": null,
            "align_items": null,
            "align_self": null,
            "border": null,
            "bottom": null,
            "display": null,
            "flex": null,
            "flex_flow": null,
            "grid_area": null,
            "grid_auto_columns": null,
            "grid_auto_flow": null,
            "grid_auto_rows": null,
            "grid_column": null,
            "grid_gap": null,
            "grid_row": null,
            "grid_template_areas": null,
            "grid_template_columns": null,
            "grid_template_rows": null,
            "height": null,
            "justify_content": null,
            "justify_items": null,
            "left": null,
            "margin": null,
            "max_height": null,
            "max_width": null,
            "min_height": null,
            "min_width": null,
            "object_fit": null,
            "object_position": null,
            "order": null,
            "overflow": null,
            "overflow_x": null,
            "overflow_y": null,
            "padding": null,
            "right": null,
            "top": null,
            "visibility": null,
            "width": null
          }
        },
        "2750666a71e74432b606f5e71e550297": {
          "model_module": "@jupyter-widgets/base",
          "model_name": "LayoutModel",
          "model_module_version": "1.2.0",
          "state": {
            "_model_module": "@jupyter-widgets/base",
            "_model_module_version": "1.2.0",
            "_model_name": "LayoutModel",
            "_view_count": null,
            "_view_module": "@jupyter-widgets/base",
            "_view_module_version": "1.2.0",
            "_view_name": "LayoutView",
            "align_content": null,
            "align_items": null,
            "align_self": null,
            "border": null,
            "bottom": null,
            "display": null,
            "flex": null,
            "flex_flow": null,
            "grid_area": null,
            "grid_auto_columns": null,
            "grid_auto_flow": null,
            "grid_auto_rows": null,
            "grid_column": null,
            "grid_gap": null,
            "grid_row": null,
            "grid_template_areas": null,
            "grid_template_columns": null,
            "grid_template_rows": null,
            "height": null,
            "justify_content": null,
            "justify_items": null,
            "left": null,
            "margin": null,
            "max_height": null,
            "max_width": null,
            "min_height": null,
            "min_width": null,
            "object_fit": null,
            "object_position": null,
            "order": null,
            "overflow": null,
            "overflow_x": null,
            "overflow_y": null,
            "padding": null,
            "right": null,
            "top": null,
            "visibility": null,
            "width": null
          }
        },
        "2020e645bef147b892cfe7d4516df0ec": {
          "model_module": "@jupyter-widgets/controls",
          "model_name": "SliderStyleModel",
          "model_module_version": "1.5.0",
          "state": {
            "_model_module": "@jupyter-widgets/controls",
            "_model_module_version": "1.5.0",
            "_model_name": "SliderStyleModel",
            "_view_count": null,
            "_view_module": "@jupyter-widgets/base",
            "_view_module_version": "1.2.0",
            "_view_name": "StyleView",
            "description_width": "",
            "handle_color": null
          }
        },
        "f0147594efee42c0813588851c37af9f": {
          "model_module": "@jupyter-widgets/base",
          "model_name": "LayoutModel",
          "model_module_version": "1.2.0",
          "state": {
            "_model_module": "@jupyter-widgets/base",
            "_model_module_version": "1.2.0",
            "_model_name": "LayoutModel",
            "_view_count": null,
            "_view_module": "@jupyter-widgets/base",
            "_view_module_version": "1.2.0",
            "_view_name": "LayoutView",
            "align_content": null,
            "align_items": null,
            "align_self": null,
            "border": null,
            "bottom": null,
            "display": null,
            "flex": null,
            "flex_flow": null,
            "grid_area": null,
            "grid_auto_columns": null,
            "grid_auto_flow": null,
            "grid_auto_rows": null,
            "grid_column": null,
            "grid_gap": null,
            "grid_row": null,
            "grid_template_areas": null,
            "grid_template_columns": null,
            "grid_template_rows": null,
            "height": null,
            "justify_content": null,
            "justify_items": null,
            "left": null,
            "margin": null,
            "max_height": null,
            "max_width": null,
            "min_height": null,
            "min_width": null,
            "object_fit": null,
            "object_position": null,
            "order": null,
            "overflow": null,
            "overflow_x": null,
            "overflow_y": null,
            "padding": null,
            "right": null,
            "top": null,
            "visibility": null,
            "width": null
          }
        },
        "adfc0f3ee0294937ba39a47fba988f08": {
          "model_module": "@jupyter-widgets/controls",
          "model_name": "VBoxModel",
          "model_module_version": "1.5.0",
          "state": {
            "_dom_classes": [],
            "_model_module": "@jupyter-widgets/controls",
            "_model_module_version": "1.5.0",
            "_model_name": "VBoxModel",
            "_view_count": null,
            "_view_module": "@jupyter-widgets/controls",
            "_view_module_version": "1.5.0",
            "_view_name": "VBoxView",
            "box_style": "",
            "children": [
              "IPY_MODEL_fffb107806ed4b23919637a55984aea8"
            ],
            "layout": "IPY_MODEL_3cec7f0b95ba46319ddeb2c779e8ed27"
          }
        },
        "fffb107806ed4b23919637a55984aea8": {
          "model_module": "@jupyter-widgets/controls",
          "model_name": "LabelModel",
          "model_module_version": "1.5.0",
          "state": {
            "_dom_classes": [],
            "_model_module": "@jupyter-widgets/controls",
            "_model_module_version": "1.5.0",
            "_model_name": "LabelModel",
            "_view_count": null,
            "_view_module": "@jupyter-widgets/controls",
            "_view_module_version": "1.5.0",
            "_view_name": "LabelView",
            "description": "",
            "description_tooltip": null,
            "layout": "IPY_MODEL_3cc801a10b3d4071ab1e60b6983203f6",
            "placeholder": "​",
            "style": "IPY_MODEL_af868314ae3b425e8879f779d385b0a1",
            "value": "Magnetization: 1020"
          }
        },
        "3cec7f0b95ba46319ddeb2c779e8ed27": {
          "model_module": "@jupyter-widgets/base",
          "model_name": "LayoutModel",
          "model_module_version": "1.2.0",
          "state": {
            "_model_module": "@jupyter-widgets/base",
            "_model_module_version": "1.2.0",
            "_model_name": "LayoutModel",
            "_view_count": null,
            "_view_module": "@jupyter-widgets/base",
            "_view_module_version": "1.2.0",
            "_view_name": "LayoutView",
            "align_content": null,
            "align_items": null,
            "align_self": null,
            "border": null,
            "bottom": null,
            "display": null,
            "flex": null,
            "flex_flow": null,
            "grid_area": null,
            "grid_auto_columns": null,
            "grid_auto_flow": null,
            "grid_auto_rows": null,
            "grid_column": null,
            "grid_gap": null,
            "grid_row": null,
            "grid_template_areas": null,
            "grid_template_columns": null,
            "grid_template_rows": null,
            "height": null,
            "justify_content": null,
            "justify_items": null,
            "left": null,
            "margin": null,
            "max_height": null,
            "max_width": null,
            "min_height": null,
            "min_width": null,
            "object_fit": null,
            "object_position": null,
            "order": null,
            "overflow": null,
            "overflow_x": null,
            "overflow_y": null,
            "padding": null,
            "right": null,
            "top": null,
            "visibility": null,
            "width": null
          }
        },
        "3cc801a10b3d4071ab1e60b6983203f6": {
          "model_module": "@jupyter-widgets/base",
          "model_name": "LayoutModel",
          "model_module_version": "1.2.0",
          "state": {
            "_model_module": "@jupyter-widgets/base",
            "_model_module_version": "1.2.0",
            "_model_name": "LayoutModel",
            "_view_count": null,
            "_view_module": "@jupyter-widgets/base",
            "_view_module_version": "1.2.0",
            "_view_name": "LayoutView",
            "align_content": null,
            "align_items": null,
            "align_self": null,
            "border": null,
            "bottom": null,
            "display": null,
            "flex": null,
            "flex_flow": null,
            "grid_area": null,
            "grid_auto_columns": null,
            "grid_auto_flow": null,
            "grid_auto_rows": null,
            "grid_column": null,
            "grid_gap": null,
            "grid_row": null,
            "grid_template_areas": null,
            "grid_template_columns": null,
            "grid_template_rows": null,
            "height": null,
            "justify_content": null,
            "justify_items": null,
            "left": null,
            "margin": null,
            "max_height": null,
            "max_width": null,
            "min_height": null,
            "min_width": null,
            "object_fit": null,
            "object_position": null,
            "order": null,
            "overflow": null,
            "overflow_x": null,
            "overflow_y": null,
            "padding": null,
            "right": null,
            "top": null,
            "visibility": null,
            "width": null
          }
        },
        "af868314ae3b425e8879f779d385b0a1": {
          "model_module": "@jupyter-widgets/controls",
          "model_name": "DescriptionStyleModel",
          "model_module_version": "1.5.0",
          "state": {
            "_model_module": "@jupyter-widgets/controls",
            "_model_module_version": "1.5.0",
            "_model_name": "DescriptionStyleModel",
            "_view_count": null,
            "_view_module": "@jupyter-widgets/base",
            "_view_module_version": "1.2.0",
            "_view_name": "StyleView",
            "description_width": ""
          }
        }
      }
    }
  },
  "nbformat": 4,
  "nbformat_minor": 0
}